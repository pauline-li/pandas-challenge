{
 "cells": [
  {
   "cell_type": "markdown",
   "metadata": {},
   "source": [
    "### Heroes Of Pymoli Data Analysis\n",
    "* Of the 1163 active players, the vast majority are male (84%). There also exists, a smaller, but notable proportion of female players (14%).\n",
    "\n",
    "* Our peak age demographic falls between 20-24 (44.8%) with secondary groups falling between 15-19 (18.60%) and 25-29 (13.4%).  \n",
    "-----"
   ]
  },
  {
   "cell_type": "markdown",
   "metadata": {},
   "source": [
    "### Note\n",
    "* Instructions have been included for each segment. You do not have to follow them exactly, but they are included to help you think through the steps."
   ]
  },
  {
   "cell_type": "code",
   "execution_count": 1,
   "metadata": {},
   "outputs": [],
   "source": [
    "# Dependencies and Setup\n",
    "import pandas as pd\n",
    "import numpy as np\n",
    "\n",
    "# File to Load (Remember to Change These)\n",
    "file_to_load = \"Resources/purchase_data.csv\"\n",
    "\n",
    "# Read Purchasing File and store into Pandas data frame\n",
    "purchase_data = pd.read_csv(file_to_load)"
   ]
  },
  {
   "cell_type": "markdown",
   "metadata": {},
   "source": [
    "## Player Count"
   ]
  },
  {
   "cell_type": "markdown",
   "metadata": {},
   "source": [
    "* Display the total number of players\n",
    "Purchase ID,SN,Age,Gender,Item ID,Item Name,Price\n",
    "0,Lisim78,20,Male,108,\"Extraction, Quickblade Of Trembling Hands\",3.53\n",
    "1,Lisovynya38,40,Male,143,Frenzied Scimitar,1.56\n",
    "2,Ithergue48,24,Male,92,Final Critic,4.88\n",
    "3,Chamassasya86,24,Male,100,Blindscythe,3.27\n",
    "4,Iskosia90,23,Male,131,Fury,1.44\n",
    "5,Yalae81,22,Male,81,Dreamkiss,3.61\n",
    "6,Itheria73,36,Male,169,\"Interrogator, Blood Blade of the Queen\",2.18\n",
    "7,Iskjaskst81,20,Male,162,Abyssal Shard,2.67\n",
    "8,Undjask33,22,Male,21,Souleater,1.1\n",
    "9,Chanosian48,35,Other / Non-Disclosed,136,Ghastly Adamantite Protector,3.58\n",
    "10,Inguron55,23,Male,95,Singed Onyx Warscythe,4.74\n",
    "11,Haisrisuir60,23,Male,162,Abyssal Shard,2.67"
   ]
  },
  {
   "cell_type": "code",
   "execution_count": 129,
   "metadata": {},
   "outputs": [
    {
     "data": {
      "text/html": [
       "<div>\n",
       "<style scoped>\n",
       "    .dataframe tbody tr th:only-of-type {\n",
       "        vertical-align: middle;\n",
       "    }\n",
       "\n",
       "    .dataframe tbody tr th {\n",
       "        vertical-align: top;\n",
       "    }\n",
       "\n",
       "    .dataframe thead th {\n",
       "        text-align: right;\n",
       "    }\n",
       "</style>\n",
       "<table border=\"1\" class=\"dataframe\">\n",
       "  <thead>\n",
       "    <tr style=\"text-align: right;\">\n",
       "      <th></th>\n",
       "      <th>Total Players</th>\n",
       "    </tr>\n",
       "  </thead>\n",
       "  <tbody>\n",
       "    <tr>\n",
       "      <td>0</td>\n",
       "      <td>576</td>\n",
       "    </tr>\n",
       "  </tbody>\n",
       "</table>\n",
       "</div>"
      ],
      "text/plain": [
       "   Total Players\n",
       "0            576"
      ]
     },
     "execution_count": 129,
     "metadata": {},
     "output_type": "execute_result"
    }
   ],
   "source": [
    "#count number of players\n",
    "Total_Players= len(purchase_data[\"SN\"].value_counts())\n",
    "\n",
    "#print(f\"Total Players: {Total_Players}\")\n",
    "\n",
    "summary_df = pd.DataFrame({ \"Total Players\": [Total_Players]})\n",
    "\n",
    "summary_df\n",
    "\n"
   ]
  },
  {
   "cell_type": "markdown",
   "metadata": {},
   "source": [
    "## Purchasing Analysis (Total)"
   ]
  },
  {
   "cell_type": "markdown",
   "metadata": {},
   "source": [
    "* Run basic calculations to obtain number of unique items, average price, etc.\n",
    "\n",
    "\n",
    "* Create a summary data frame to hold the results\n",
    "\n",
    "\n",
    "* Optional: give the displayed data cleaner formatting\n",
    "\n",
    "\n",
    "* Display the summary data frame\n"
   ]
  },
  {
   "cell_type": "code",
   "execution_count": 128,
   "metadata": {
    "scrolled": true
   },
   "outputs": [
    {
     "data": {
      "text/html": [
       "<div>\n",
       "<style scoped>\n",
       "    .dataframe tbody tr th:only-of-type {\n",
       "        vertical-align: middle;\n",
       "    }\n",
       "\n",
       "    .dataframe tbody tr th {\n",
       "        vertical-align: top;\n",
       "    }\n",
       "\n",
       "    .dataframe thead th {\n",
       "        text-align: right;\n",
       "    }\n",
       "</style>\n",
       "<table border=\"1\" class=\"dataframe\">\n",
       "  <thead>\n",
       "    <tr style=\"text-align: right;\">\n",
       "      <th></th>\n",
       "      <th>Number of Unique Items</th>\n",
       "      <th>Average Price</th>\n",
       "      <th>Number of Purchases</th>\n",
       "      <th>Total Revenue</th>\n",
       "    </tr>\n",
       "  </thead>\n",
       "  <tbody>\n",
       "    <tr>\n",
       "      <td>0</td>\n",
       "      <td>179</td>\n",
       "      <td>$3.05</td>\n",
       "      <td>780</td>\n",
       "      <td>$2,379.77</td>\n",
       "    </tr>\n",
       "  </tbody>\n",
       "</table>\n",
       "</div>"
      ],
      "text/plain": [
       "   Number of Unique Items Average Price  Number of Purchases Total Revenue\n",
       "0                     179         $3.05                  780     $2,379.77"
      ]
     },
     "execution_count": 128,
     "metadata": {},
     "output_type": "execute_result"
    }
   ],
   "source": [
    "# #count unique items\n",
    "unique_items = len(purchase_data.groupby([\"Item ID\"]).count())\n",
    "# # print(f\"Number of Unique Items: {unique_items}\")\n",
    "\n",
    "# #average price\n",
    "avg_price = purchase_data[\"Price\"].mean()\n",
    "# # print(f\"Avg Price: ${avg_price:,.2f}\")\n",
    "\n",
    "# #count number of purchases\n",
    "number_of_purchases = purchase_data[\"Purchase ID\"].count()\n",
    "# # print(f\"Number of Purchases: {number_of_purchases}\")\n",
    "\n",
    "# #get total revenue\n",
    "total_revenue = purchase_data[\"Price\"].sum()\n",
    "# # print(f\"Total Revenue: ${total_revenue:,.2f}\")\n",
    "\n",
    "\n",
    "# Creating a summary DataFrame using above values\n",
    "summary_df = pd.DataFrame({ \"Number of Unique Items\": [unique_items],\n",
    "                            \"Average Price\": f\"${avg_price:,.2f}\",\n",
    "                            \"Number of Purchases\": number_of_purchases,\n",
    "                            \"Total Revenue\":f\"${total_revenue:,.2f}\"\n",
    "                        })\n",
    "\n",
    "summary_df\n"
   ]
  },
  {
   "cell_type": "markdown",
   "metadata": {},
   "source": [
    "## Gender Demographics"
   ]
  },
  {
   "cell_type": "markdown",
   "metadata": {},
   "source": [
    "* Percentage and Count of Male Players\n",
    "\n",
    "\n",
    "* Percentage and Count of Female Players\n",
    "\n",
    "\n",
    "* Percentage and Count of Other / Non-Disclosed\n",
    "\n",
    "\n"
   ]
  },
  {
   "cell_type": "code",
   "execution_count": 127,
   "metadata": {},
   "outputs": [
    {
     "data": {
      "text/html": [
       "<div>\n",
       "<style scoped>\n",
       "    .dataframe tbody tr th:only-of-type {\n",
       "        vertical-align: middle;\n",
       "    }\n",
       "\n",
       "    .dataframe tbody tr th {\n",
       "        vertical-align: top;\n",
       "    }\n",
       "\n",
       "    .dataframe thead th {\n",
       "        text-align: right;\n",
       "    }\n",
       "</style>\n",
       "<table border=\"1\" class=\"dataframe\">\n",
       "  <thead>\n",
       "    <tr style=\"text-align: right;\">\n",
       "      <th></th>\n",
       "      <th>SN</th>\n",
       "    </tr>\n",
       "    <tr>\n",
       "      <th>Gender</th>\n",
       "      <th></th>\n",
       "    </tr>\n",
       "  </thead>\n",
       "  <tbody>\n",
       "    <tr>\n",
       "      <td>Female</td>\n",
       "      <td>81</td>\n",
       "    </tr>\n",
       "    <tr>\n",
       "      <td>Male</td>\n",
       "      <td>484</td>\n",
       "    </tr>\n",
       "    <tr>\n",
       "      <td>Other / Non-Disclosed</td>\n",
       "      <td>11</td>\n",
       "    </tr>\n",
       "  </tbody>\n",
       "</table>\n",
       "</div>"
      ],
      "text/plain": [
       "                        SN\n",
       "Gender                    \n",
       "Female                  81\n",
       "Male                   484\n",
       "Other / Non-Disclosed   11"
      ]
     },
     "execution_count": 127,
     "metadata": {},
     "output_type": "execute_result"
    }
   ],
   "source": [
    "#http://localhost:8888/notebooks/Lessons/04-Pandas/1/Activities/05-Ins_DataFunctions/Solved/data_functions.ipynb\n",
    "\n",
    "#----Notes: check total players----\n",
    "avg_male_player = purchase_data.groupby(['Gender']).agg({'SN': 'nunique'})\n",
    "avg_male_player.rename(columns={'SN':'Total'})  # , '':''})\n",
    "\n",
    "\n",
    "avg_male_player"
   ]
  },
  {
   "cell_type": "code",
   "execution_count": null,
   "metadata": {},
   "outputs": [],
   "source": [
    "# M= purchase_data.groupby('Gender')['SN'].nunique().reset_index()\n",
    "# M['Percentage of Players'] = 100 * M['SN']  / M['SN'].sum()\n",
    "# print (M)\n",
    "\n",
    "# count of players by gender\n",
    "unique_count_df = purchase_data.groupby('Gender')['SN'].nunique()\n",
    "#Percentage of players by gender\n",
    "percent_of_player_df =(unique_count_df/len(purchase_data[\"SN\"].value_counts()))*100\n",
    "\n",
    "#merge both dataframe on 'Gender' columns\n",
    "merge_df = pd.merge(unique_count_df,percent_of_player_df, on='Gender')\n",
    "#rename default column names on merged dataframe\n",
    "merge_df = merge_df.rename(columns={\"SN_x\": \"Total Count\",\"SN_y\":\"Percentage of Players\"} )\n",
    "#format percentage on output\n",
    "merge_df[\"Percentage of Players\"] = merge_df[\"Percentage of Players\"].map(\"{:.2f}%\".format)\n",
    "\n",
    "merge_df\n",
    "\n",
    "\n"
   ]
  },
  {
   "cell_type": "markdown",
   "metadata": {},
   "source": [
    "\n",
    "## Purchasing Analysis (Gender)"
   ]
  },
  {
   "cell_type": "markdown",
   "metadata": {},
   "source": [
    "* Run basic calculations to obtain purchase count, avg. purchase price, avg. purchase total per person etc. by gender\n",
    "\n",
    "\n",
    "\n",
    "\n",
    "* Create a summary data frame to hold the results\n",
    "\n",
    "\n",
    "* Optional: give the displayed data cleaner formatting\n",
    "\n",
    "\n",
    "* Display the summary data frame"
   ]
  },
  {
   "cell_type": "code",
   "execution_count": null,
   "metadata": {},
   "outputs": [],
   "source": [
    "#Gender group head count\n",
    "person_count = purchase_data.groupby('Gender')['SN'].nunique()\n",
    "\n",
    "#purchase count ['Purchase ID']\n",
    "purchase_count = purchase_data.groupby('Gender')['Purchase ID'].nunique()\n",
    "purchase_count\n",
    "\n",
    "#Total purchase value\n",
    "tot_purchase_value = purchase_data.groupby('Gender')['Price'].sum()\n",
    "tot_purchase_value  \n",
    "\n",
    "#Average purchase value\n",
    "avg_purchase_price = (tot_purchase_value/purchase_count)\n",
    "avg_purchase_price \n",
    "\n",
    "\n",
    "avg_purchase_per_person = (tot_purchase_value/person_count)\n",
    "avg_purchase_per_person\n",
    "\n",
    "#Create summary frame with formatted values, .map accepts series or function\n",
    "summary_df = pd.DataFrame({\"Purchase Count\": purchase_count, \n",
    "                   \"Average Purchase Price\": avg_purchase_price.map(\"${:.2f}\".format),\n",
    "                   \"Total Purchase Value\": tot_purchase_value.map(\"${:,.2f}\".format), \n",
    "                   \"Avg Total Purchase per Person\": avg_purchase_per_person.map(\"${:.2f}\".format),\n",
    "                  \n",
    "                  })\n",
    "summary_df\n",
    "\n",
    "\n",
    "\n"
   ]
  },
  {
   "cell_type": "markdown",
   "metadata": {},
   "source": [
    "## Age Demographics"
   ]
  },
  {
   "cell_type": "markdown",
   "metadata": {},
   "source": [
    "* Establish bins for ages\n",
    "\n",
    "\n",
    "* Categorize the existing players using the age bins. Hint: use pd.cut()\n",
    "\n",
    "\n",
    "* Calculate the numbers and percentages by age group\n",
    "\n",
    "\n",
    "* Create a summary data frame to hold the results\n",
    "\n",
    "\n",
    "* Optional: round the percentage column to two decimal points\n",
    "\n",
    "\n",
    "* Display Age Demographics Table\n"
   ]
  },
  {
   "cell_type": "code",
   "execution_count": null,
   "metadata": {},
   "outputs": [],
   "source": [
    "#Create bins in which to place values \n",
    "bins = [0, 9, 14,19,24,29,34,39,120] \n",
    "\n",
    "#Create the names for the eight bins\n",
    "group_labels = [\"<10\",\"10-14\",\"15-19\",\"20-24\",\"25-29\",\"30-34\",\"35-39\",\"40+\"]\n",
    "\n",
    "#Slice the data and place into bins\n",
    "pd.cut(purchase_data[\"Age\"], bins, labels=group_labels).head() # Each index by bin group\n",
    "#Place the data series into a new column \"Age Ranges\" inside of the Dataframe\n",
    "purchase_data[\"Age Ranges\"] = pd.cut(purchase_data[\"Age\"], bins, labels=group_labels) # to add the above cut to existing df\n",
    "purchase_data.head\n",
    "#Create groupby object based upon \"Age Ranges\"\n",
    "purchase_group = purchase_data.groupby(\"Age Ranges\")\n",
    "\n",
    "#Total count\n",
    "total_count = len(purchase_group[\"SN\"].value_counts())\n",
    "total_count\n",
    "\n",
    "#Unique count\n",
    "unique_count = purchase_group[\"SN\"].nunique()\n",
    "unique_count\n",
    "\n",
    "#Percentage of player\n",
    "percent_of_player = (unique_count/total_count) * 100\n",
    "percent_of_player\n",
    "\n",
    "#create summary data frame with formatting\n",
    "summary_df = pd.DataFrame({\"Total Count\": unique_count, \n",
    "                   \"Average Purchase Price\": percent_of_player.map(\"{:.2f}%\".format)\n",
    "                  })\n",
    "summary_df\n",
    "\n",
    "\n"
   ]
  },
  {
   "cell_type": "markdown",
   "metadata": {},
   "source": [
    "## Purchasing Analysis (Age)"
   ]
  },
  {
   "cell_type": "markdown",
   "metadata": {},
   "source": [
    "* Bin the purchase_data data frame by age\n",
    "\n",
    "\n",
    "* Run basic calculations to obtain purchase count, avg. purchase price, avg. purchase total per person etc. in the table below\n",
    "\n",
    "\n",
    "* Create a summary data frame to hold the results\n",
    "\n",
    "\n",
    "* Optional: give the displayed data cleaner formatting\n",
    "\n",
    "\n",
    "* Display the summary data frame"
   ]
  },
  {
   "cell_type": "code",
   "execution_count": null,
   "metadata": {},
   "outputs": [],
   "source": [
    "# Total Count\tPercentage of Players\n",
    "# <10\t   17\t2.95%  #0-9\n",
    "# 10-14\t22\t3.82%      #10-14\n",
    "# 15-19\t107\t18.58%     #15-19\n",
    "# 20-24\t258\t44.79%     #20-24 \n",
    "# 25-29\t77\t13.37%     #25-29 \n",
    "# 30-34\t52\t9.03%      #30-34\n",
    "# 35-39\t31\t5.38%      #35-39\n",
    "# 40+\t12\t2.08%      #40-150\n",
    "#------------------------------------\n",
    "\n",
    "purchase_count = purchase_group[\"Age\"].count()\n",
    "\n",
    "tot_purchase_price = purchase_group[\"Price\"].sum()\n",
    "\n",
    "avg_purchase_price = tot_purchase_price/purchase_count\n",
    "\n",
    "avg_tot_purchase_per_person = tot_purchase_price/unique_count\n",
    "\n",
    "avg_tot_purchase_per_person\n",
    "\n",
    "#create summary data frame with formatting\n",
    "summary_df = pd.DataFrame({\"Purchase Count\": purchase_count, \n",
    "                           \"Average Purchase Price\": avg_purchase_price.map(\"${:.2f}\".format),\n",
    "                           \"Total Purchase Value\": tot_purchase_price.map(\"${:,.2f}\".format),\n",
    "                           \"Avg Total Purchase per Person\": avg_tot_purchase_per_person.map(\"${:.2f}\".format)\n",
    "                          })\n",
    "summary_df\n",
    "\n",
    "\n"
   ]
  },
  {
   "cell_type": "markdown",
   "metadata": {},
   "source": [
    "## Top Spenders"
   ]
  },
  {
   "cell_type": "markdown",
   "metadata": {},
   "source": [
    "* Run basic calculations to obtain the results in the table below\n",
    "\n",
    "\n",
    "* Create a summary data frame to hold the results\n",
    "\n",
    "\n",
    "* Sort the total purchase value column in descending order\n",
    "\n",
    "\n",
    "* Optional: give the displayed data cleaner formatting\n",
    "\n",
    "\n",
    "* Display a preview of the summary data frame\n",
    "\n"
   ]
  },
  {
   "cell_type": "code",
   "execution_count": 119,
   "metadata": {},
   "outputs": [
    {
     "data": {
      "text/html": [
       "<div>\n",
       "<style scoped>\n",
       "    .dataframe tbody tr th:only-of-type {\n",
       "        vertical-align: middle;\n",
       "    }\n",
       "\n",
       "    .dataframe tbody tr th {\n",
       "        vertical-align: top;\n",
       "    }\n",
       "\n",
       "    .dataframe thead th {\n",
       "        text-align: right;\n",
       "    }\n",
       "</style>\n",
       "<table border=\"1\" class=\"dataframe\">\n",
       "  <thead>\n",
       "    <tr style=\"text-align: right;\">\n",
       "      <th></th>\n",
       "      <th>Purchase Count</th>\n",
       "      <th>Average Purchase Price</th>\n",
       "      <th>Total Purchase Value</th>\n",
       "    </tr>\n",
       "    <tr>\n",
       "      <th>SN</th>\n",
       "      <th></th>\n",
       "      <th></th>\n",
       "      <th></th>\n",
       "    </tr>\n",
       "  </thead>\n",
       "  <tbody>\n",
       "    <tr>\n",
       "      <td>Lisosia93</td>\n",
       "      <td>5</td>\n",
       "      <td>$3.79</td>\n",
       "      <td>18.96</td>\n",
       "    </tr>\n",
       "    <tr>\n",
       "      <td>Idastidru52</td>\n",
       "      <td>4</td>\n",
       "      <td>$3.86</td>\n",
       "      <td>15.45</td>\n",
       "    </tr>\n",
       "    <tr>\n",
       "      <td>Chamjask73</td>\n",
       "      <td>3</td>\n",
       "      <td>$4.61</td>\n",
       "      <td>13.83</td>\n",
       "    </tr>\n",
       "    <tr>\n",
       "      <td>Iral74</td>\n",
       "      <td>4</td>\n",
       "      <td>$3.40</td>\n",
       "      <td>13.62</td>\n",
       "    </tr>\n",
       "    <tr>\n",
       "      <td>Iskadarya95</td>\n",
       "      <td>3</td>\n",
       "      <td>$4.37</td>\n",
       "      <td>13.10</td>\n",
       "    </tr>\n",
       "  </tbody>\n",
       "</table>\n",
       "</div>"
      ],
      "text/plain": [
       "             Purchase Count Average Purchase Price  Total Purchase Value\n",
       "SN                                                                      \n",
       "Lisosia93                 5                  $3.79                 18.96\n",
       "Idastidru52               4                  $3.86                 15.45\n",
       "Chamjask73                3                  $4.61                 13.83\n",
       "Iral74                    4                  $3.40                 13.62\n",
       "Iskadarya95               3                  $4.37                 13.10"
      ]
     },
     "execution_count": 119,
     "metadata": {},
     "output_type": "execute_result"
    }
   ],
   "source": [
    "#purchase count\n",
    "purchase_count=(purchase_data.groupby('SN')['Purchase ID'].nunique())\n",
    "purchase_count\n",
    "\n",
    "#total price value\n",
    "total_price_value = (purchase_data.groupby('SN')['Price'].sum())\n",
    "total_price_value.head()\n",
    "\n",
    "#average purchase price\n",
    "avg_purchase_price= total_price_value/purchase_count\n",
    "avg_purchase_price\n",
    "\n",
    "\n",
    "#Create summary frame with formatted values, .map accepts series or function\n",
    "summary_df = pd.DataFrame({\"Purchase Count\": purchase_count, \n",
    "                           \"Average Purchase Price\": avg_purchase_price.map(\"${:.2f}\".format),\n",
    "                           \"Total Purchase Value\": total_price_value #.map(\"${:,.2f}\".format) # .map changed datatype\n",
    "                                                                                              # to string - won't work with sort\n",
    "                                    \n",
    "                          })\n",
    "\n",
    "#Sort summary data frame by Total Purchase Value in descending order\n",
    "summary_df.sort_values(\"Total Purchase Value\", ascending = False).head(5)\n",
    "\n"
   ]
  },
  {
   "cell_type": "markdown",
   "metadata": {},
   "source": [
    "## Most Popular Items"
   ]
  },
  {
   "cell_type": "markdown",
   "metadata": {},
   "source": [
    "* Retrieve the Item ID, Item Name, and Item Price columns\n",
    "* Group by Item ID and Item Name. Perform calculations to obtain purchase count, item price, and total purchase value\n",
    "* Create a summary data frame to hold the results\n",
    "* Sort the purchase count column in descending order\n",
    "* Optional: give the displayed data cleaner formatting\n",
    "* Display a preview of the summary data frame\n"
   ]
  },
  {
   "cell_type": "code",
   "execution_count": 124,
   "metadata": {},
   "outputs": [
    {
     "data": {
      "text/html": [
       "<div>\n",
       "<style scoped>\n",
       "    .dataframe tbody tr th:only-of-type {\n",
       "        vertical-align: middle;\n",
       "    }\n",
       "\n",
       "    .dataframe tbody tr th {\n",
       "        vertical-align: top;\n",
       "    }\n",
       "\n",
       "    .dataframe thead th {\n",
       "        text-align: right;\n",
       "    }\n",
       "</style>\n",
       "<table border=\"1\" class=\"dataframe\">\n",
       "  <thead>\n",
       "    <tr style=\"text-align: right;\">\n",
       "      <th></th>\n",
       "      <th></th>\n",
       "      <th>Purchase Count</th>\n",
       "      <th>Item Price</th>\n",
       "      <th>Total Purchase Price</th>\n",
       "    </tr>\n",
       "    <tr>\n",
       "      <th>Item ID</th>\n",
       "      <th>Item Name</th>\n",
       "      <th></th>\n",
       "      <th></th>\n",
       "      <th></th>\n",
       "    </tr>\n",
       "  </thead>\n",
       "  <tbody>\n",
       "    <tr>\n",
       "      <td>92</td>\n",
       "      <td>Final Critic</td>\n",
       "      <td>13</td>\n",
       "      <td>$4.61</td>\n",
       "      <td>59.99</td>\n",
       "    </tr>\n",
       "    <tr>\n",
       "      <td>178</td>\n",
       "      <td>Oathbreaker, Last Hope of the Breaking Storm</td>\n",
       "      <td>12</td>\n",
       "      <td>$4.23</td>\n",
       "      <td>50.76</td>\n",
       "    </tr>\n",
       "    <tr>\n",
       "      <td>145</td>\n",
       "      <td>Fiery Glass Crusader</td>\n",
       "      <td>9</td>\n",
       "      <td>$4.58</td>\n",
       "      <td>41.22</td>\n",
       "    </tr>\n",
       "    <tr>\n",
       "      <td>132</td>\n",
       "      <td>Persuasion</td>\n",
       "      <td>9</td>\n",
       "      <td>$3.22</td>\n",
       "      <td>28.99</td>\n",
       "    </tr>\n",
       "    <tr>\n",
       "      <td>108</td>\n",
       "      <td>Extraction, Quickblade Of Trembling Hands</td>\n",
       "      <td>9</td>\n",
       "      <td>$3.53</td>\n",
       "      <td>31.77</td>\n",
       "    </tr>\n",
       "  </tbody>\n",
       "</table>\n",
       "</div>"
      ],
      "text/plain": [
       "                                                      Purchase Count  \\\n",
       "Item ID Item Name                                                      \n",
       "92      Final Critic                                              13   \n",
       "178     Oathbreaker, Last Hope of the Breaking Storm              12   \n",
       "145     Fiery Glass Crusader                                       9   \n",
       "132     Persuasion                                                 9   \n",
       "108     Extraction, Quickblade Of Trembling Hands                  9   \n",
       "\n",
       "                                                     Item Price  \\\n",
       "Item ID Item Name                                                 \n",
       "92      Final Critic                                      $4.61   \n",
       "178     Oathbreaker, Last Hope of the Breaking Storm      $4.23   \n",
       "145     Fiery Glass Crusader                              $4.58   \n",
       "132     Persuasion                                        $3.22   \n",
       "108     Extraction, Quickblade Of Trembling Hands         $3.53   \n",
       "\n",
       "                                                      Total Purchase Price  \n",
       "Item ID Item Name                                                           \n",
       "92      Final Critic                                                 59.99  \n",
       "178     Oathbreaker, Last Hope of the Breaking Storm                 50.76  \n",
       "145     Fiery Glass Crusader                                         41.22  \n",
       "132     Persuasion                                                   28.99  \n",
       "108     Extraction, Quickblade Of Trembling Hands                    31.77  "
      ]
     },
     "execution_count": 124,
     "metadata": {},
     "output_type": "execute_result"
    }
   ],
   "source": [
    "#Creaet dataframe with columns Item ID, Item Name, and Price\n",
    "popular_item_df = purchase_data[['Item ID', 'Item Name','Price' ]]\n",
    "popular_item_df\n",
    "\n",
    "#Group popular_item_df by Item ID and Item Name\n",
    "popular_item_grp = popular_item_df.groupby(['Item ID', 'Item Name'])\n",
    "popular_item_grp\n",
    "\n",
    "#Purchase count\n",
    "popular_item_count = popular_item_grp['Price'].count()\n",
    "popular_item_count\n",
    "\n",
    "#Sum total purchase value\n",
    "tot_purchase_value = popular_item_grp['Price'].sum()\n",
    "tot_purchase_value\n",
    "\n",
    "#Calculate item price: total popular item purchase value/ populater item count\n",
    "item_price= tot_purchase_value/ popular_item_count\n",
    "item_price\n",
    "\n",
    "\n",
    "#Create summary dataframe\n",
    "summary_df = pd.DataFrame({\"Purchase Count\": popular_item_count, \n",
    "                           \"Item Price\": item_price.map(\"${:.2f}\".format),\n",
    "                           \"Total Purchase Price\": tot_purchase_value#.map(\"${:.2f}\".format)\n",
    "                                                            \n",
    "                          })\n",
    "\n",
    "\n",
    "#Sort summary data frame by Purchase Count value in descending order\n",
    "summary_df.sort_values(\"Purchase Count\", ascending = False).head(5)\n",
    "\n",
    "\n",
    "\n"
   ]
  },
  {
   "cell_type": "markdown",
   "metadata": {},
   "source": [
    "## Most Profitable Items"
   ]
  },
  {
   "cell_type": "markdown",
   "metadata": {},
   "source": [
    "* Sort the above table by total purchase value in descending order\n",
    "\n",
    "\n",
    "* Optional: give the displayed data cleaner formatting\n",
    "\n",
    "\n",
    "* Display a preview of the data frame\n",
    "\n"
   ]
  },
  {
   "cell_type": "code",
   "execution_count": 125,
   "metadata": {
    "scrolled": true
   },
   "outputs": [
    {
     "data": {
      "text/html": [
       "<div>\n",
       "<style scoped>\n",
       "    .dataframe tbody tr th:only-of-type {\n",
       "        vertical-align: middle;\n",
       "    }\n",
       "\n",
       "    .dataframe tbody tr th {\n",
       "        vertical-align: top;\n",
       "    }\n",
       "\n",
       "    .dataframe thead th {\n",
       "        text-align: right;\n",
       "    }\n",
       "</style>\n",
       "<table border=\"1\" class=\"dataframe\">\n",
       "  <thead>\n",
       "    <tr style=\"text-align: right;\">\n",
       "      <th></th>\n",
       "      <th></th>\n",
       "      <th>Purchase Count</th>\n",
       "      <th>Item Price</th>\n",
       "      <th>Total Purchase Price</th>\n",
       "    </tr>\n",
       "    <tr>\n",
       "      <th>Item ID</th>\n",
       "      <th>Item Name</th>\n",
       "      <th></th>\n",
       "      <th></th>\n",
       "      <th></th>\n",
       "    </tr>\n",
       "  </thead>\n",
       "  <tbody>\n",
       "    <tr>\n",
       "      <td>92</td>\n",
       "      <td>Final Critic</td>\n",
       "      <td>13</td>\n",
       "      <td>$4.61</td>\n",
       "      <td>59.99</td>\n",
       "    </tr>\n",
       "    <tr>\n",
       "      <td>178</td>\n",
       "      <td>Oathbreaker, Last Hope of the Breaking Storm</td>\n",
       "      <td>12</td>\n",
       "      <td>$4.23</td>\n",
       "      <td>50.76</td>\n",
       "    </tr>\n",
       "    <tr>\n",
       "      <td>82</td>\n",
       "      <td>Nirvana</td>\n",
       "      <td>9</td>\n",
       "      <td>$4.90</td>\n",
       "      <td>44.10</td>\n",
       "    </tr>\n",
       "    <tr>\n",
       "      <td>145</td>\n",
       "      <td>Fiery Glass Crusader</td>\n",
       "      <td>9</td>\n",
       "      <td>$4.58</td>\n",
       "      <td>41.22</td>\n",
       "    </tr>\n",
       "    <tr>\n",
       "      <td>103</td>\n",
       "      <td>Singed Scalpel</td>\n",
       "      <td>8</td>\n",
       "      <td>$4.35</td>\n",
       "      <td>34.80</td>\n",
       "    </tr>\n",
       "  </tbody>\n",
       "</table>\n",
       "</div>"
      ],
      "text/plain": [
       "                                                      Purchase Count  \\\n",
       "Item ID Item Name                                                      \n",
       "92      Final Critic                                              13   \n",
       "178     Oathbreaker, Last Hope of the Breaking Storm              12   \n",
       "82      Nirvana                                                    9   \n",
       "145     Fiery Glass Crusader                                       9   \n",
       "103     Singed Scalpel                                             8   \n",
       "\n",
       "                                                     Item Price  \\\n",
       "Item ID Item Name                                                 \n",
       "92      Final Critic                                      $4.61   \n",
       "178     Oathbreaker, Last Hope of the Breaking Storm      $4.23   \n",
       "82      Nirvana                                           $4.90   \n",
       "145     Fiery Glass Crusader                              $4.58   \n",
       "103     Singed Scalpel                                    $4.35   \n",
       "\n",
       "                                                      Total Purchase Price  \n",
       "Item ID Item Name                                                           \n",
       "92      Final Critic                                                 59.99  \n",
       "178     Oathbreaker, Last Hope of the Breaking Storm                 50.76  \n",
       "82      Nirvana                                                      44.10  \n",
       "145     Fiery Glass Crusader                                         41.22  \n",
       "103     Singed Scalpel                                               34.80  "
      ]
     },
     "execution_count": 125,
     "metadata": {},
     "output_type": "execute_result"
    }
   ],
   "source": [
    "#Sort summary data frame by Total Purchase Value in descending order\n",
    "summary_df.sort_values(\"Total Purchase Price\", ascending = False).head(5)\n",
    "\n",
    "\n"
   ]
  }
 ],
 "metadata": {
  "anaconda-cloud": {},
  "kernel_info": {
   "name": "python3"
  },
  "kernelspec": {
   "display_name": "Python 3",
   "language": "python",
   "name": "python3"
  },
  "language_info": {
   "codemirror_mode": {
    "name": "ipython",
    "version": 3
   },
   "file_extension": ".py",
   "mimetype": "text/x-python",
   "name": "python",
   "nbconvert_exporter": "python",
   "pygments_lexer": "ipython3",
   "version": "3.7.4"
  },
  "latex_envs": {
   "LaTeX_envs_menu_present": true,
   "autoclose": false,
   "autocomplete": true,
   "bibliofile": "biblio.bib",
   "cite_by": "apalike",
   "current_citInitial": 1,
   "eqLabelWithNumbers": true,
   "eqNumInitial": 1,
   "hotkeys": {
    "equation": "Ctrl-E",
    "itemize": "Ctrl-I"
   },
   "labels_anchors": false,
   "latex_user_defs": false,
   "report_style_numbering": false,
   "user_envs_cfg": false
  },
  "nteract": {
   "version": "0.2.0"
  }
 },
 "nbformat": 4,
 "nbformat_minor": 2
}
